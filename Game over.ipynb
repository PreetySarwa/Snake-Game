{
 "cells": [
  {
   "cell_type": "code",
   "execution_count": null,
   "metadata": {},
   "outputs": [],
   "source": [
    "def gameover():\n",
    "    #canvas.fill(BLACK)\n",
    "\n",
    "    font_gameover1 = large_font.render('GAME OVER', True, RED)\n",
    "    font_gameover2 = medium_font.render(\"Play Again\", True, WHITE, GREEN)\n",
    "    font_gameover3 = medium_font.render(\"Quit\", True, RED, WHITE)\n",
    "\n",
    "    font_gameover1_rect = font_gameover1.get_rect()\n",
    "    font_gameover2_rect = font_gameover2.get_rect()\n",
    "    font_gameover3_rect = font_gameover3.get_rect()\n",
    "\n",
    "\n",
    "    font_gameover1_rect.center = (WINDOW_WIDTH/2, WINDOW_HEIGHT/2 - 100)\n",
    "    font_gameover2_rect.center = (WINDOW_WIDTH / 2 + 150, WINDOW_HEIGHT / 2 + 20)\n",
    "    font_gameover3_rect.center = (WINDOW_WIDTH / 2 + 150, WINDOW_HEIGHT / 2 + 70)\n",
    "\n",
    "\n",
    "    canvas.blit(font_gameover1, font_gameover1_rect)\n",
    "    canvas.blit(font_gameover2, font_gameover2_rect)\n",
    "    canvas.blit(font_gameover3, font_gameover3_rect)\n",
    "    pygame.display.update()\n",
    "\n",
    "    while True:\n",
    "        for event in pygame.event.get():\n",
    "            if event.type == pygame.QUIT:\n",
    "                pygame.quit()\n",
    "                sys.exit()\n",
    "            if event.type == pygame.MOUSEBUTTONDOWN:\n",
    "                x, y = event.pos\n",
    "                if x &gt; font_gameover2_rect.left and x &lt; font_gameover2_rect.right:\n",
    "                    if y &gt; font_gameover2_rect.top and y &lt; font_gameover2_rect.bottom:\n",
    "                        gameloop()\n",
    "                if x &gt; font_gameover3_rect.left and x &lt; font_gameover3_rect.right:\n",
    "                    if y &gt; font_gameover3_rect.top and y &lt; font_gameover3_rect.bottom:\n",
    "                        pygame.quit()\n",
    "                        sys.exit()\n",
    "\n",
    "\n",
    "        pygame.display.update()"
   ]
  }
 ],
 "metadata": {
  "kernelspec": {
   "display_name": "Python 3",
   "language": "python",
   "name": "python3"
  },
  "language_info": {
   "codemirror_mode": {
    "name": "ipython",
    "version": 3
   },
   "file_extension": ".py",
   "mimetype": "text/x-python",
   "name": "python",
   "nbconvert_exporter": "python",
   "pygments_lexer": "ipython3",
   "version": "3.7.3"
  }
 },
 "nbformat": 4,
 "nbformat_minor": 2
}
