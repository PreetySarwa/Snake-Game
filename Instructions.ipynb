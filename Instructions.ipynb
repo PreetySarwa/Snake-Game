{
 "cells": [
  {
   "cell_type": "code",
   "execution_count": null,
   "metadata": {},
   "outputs": [],
   "source": [
    "def start_inst(start_font1, start_font1_rect):\n",
    "    canvas.fill(BLACK)\n",
    "    canvas.blit(start_font1, start_font1_rect)\n",
    "    start_inst1 = small_font.render(\"--&gt; Crossing our boundaries and you're dead, True, RED)\n",
    "    start_inst2 = small_font.render(\"--&gt; 1 apple a day, keeps you healthy\", True, GREEN)\n",
    "    start_inst3 = small_font.render(\"--&gt; Don't cross yourself!\", True, RED)\n",
    "    start_inst4 = small_font.render(\"--&gt; Keep playing......\", True, GREEN)\n",
    "    start_inst5 = medium_font.render(\"&lt;&lt;BACK\", True, BLACK, WHITE)\n",
    "    start_inst5_rect = start_inst5.get_rect()\n",
    "    start_inst5_rect.center = (WINDOW_WIDTH-100, WINDOW_HEIGHT - 100)\n",
    "\n",
    "    canvas.blit(start_inst1, (WINDOW_WIDTH/8, WINDOW_HEIGHT/2))\n",
    "    canvas.blit(start_inst2, (WINDOW_WIDTH/8, WINDOW_HEIGHT/2 + 30))\n",
    "    canvas.blit(start_inst3, (WINDOW_WIDTH/8, WINDOW_HEIGHT/2 + 60))\n",
    "    canvas.blit(start_inst4, (WINDOW_WIDTH/8, WINDOW_HEIGHT/2 + 90))\n",
    "    canvas.blit(start_inst5, start_inst5_rect)\n",
    "    pygame.display.update()\n",
    "\n",
    "    while True:\n",
    "        for event in pygame.event.get():\n",
    "            if event.type == pygame.QUIT:\n",
    "                pygame.quit()\n",
    "                sys.exit()\n",
    "            if event.type == pygame.MOUSEBUTTONDOWN:\n",
    "                x, y = event.pos\n",
    "                if x &gt; start_inst5_rect.left and x &lt; start_inst5_rect.right:\n",
    "                    if y &gt; start_inst5_rect.top and y &lt; start_inst5_rect.bottom:\n",
    "                        start_game()\n",
    "        pygame.display.update()"
   ]
  }
 ],
 "metadata": {
  "kernelspec": {
   "display_name": "Python 3",
   "language": "python",
   "name": "python3"
  },
  "language_info": {
   "codemirror_mode": {
    "name": "ipython",
    "version": 3
   },
   "file_extension": ".py",
   "mimetype": "text/x-python",
   "name": "python",
   "nbconvert_exporter": "python",
   "pygments_lexer": "ipython3",
   "version": "3.7.3"
  }
 },
 "nbformat": 4,
 "nbformat_minor": 2
}
