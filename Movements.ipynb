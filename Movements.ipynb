{
 "cells": [
  {
   "cell_type": "code",
   "execution_count": null,
   "metadata": {},
   "outputs": [],
   "source": [
    "def snake(snakelist, direction):\n",
    "\n",
    "    if direction == 'right':\n",
    "        head = pygame.transform.rotate(snake_img, 270)\n",
    "        tail = pygame.transform.rotate(tail_img, 270)\n",
    "    if direction == 'left':\n",
    "        head = pygame.transform.rotate(snake_img, 90)\n",
    "        tail = pygame.transform.rotate(tail_img, 90)\n",
    "    if direction == 'up':\n",
    "        head = pygame.transform.rotate(snake_img, 0)\n",
    "        tail = pygame.transform.rotate(tail_img, 0)\n",
    "    if direction == 'down':\n",
    "        head = pygame.transform.rotate(snake_img, 180)\n",
    "        tail = pygame.transform.rotate(tail_img, 180)\n",
    "\n",
    "    canvas.blit(head, snakelist&#91;-1])\n",
    "    canvas.blit(tail, snakelist&#91;0])\n",
    "\n",
    "    for XnY in snakelist&#91;1:-1]:\n",
    "        pygame.draw.rect(canvas, BLUE, (XnY&#91;0], XnY&#91;1], SNAKE_WIDTH, SNAKE_WIDTH))"
   ]
  }
 ],
 "metadata": {
  "kernelspec": {
   "display_name": "Python 3",
   "language": "python",
   "name": "python3"
  },
  "language_info": {
   "codemirror_mode": {
    "name": "ipython",
    "version": 3
   },
   "file_extension": ".py",
   "mimetype": "text/x-python",
   "name": "python",
   "nbconvert_exporter": "python",
   "pygments_lexer": "ipython3",
   "version": "3.7.3"
  }
 },
 "nbformat": 4,
 "nbformat_minor": 2
}
