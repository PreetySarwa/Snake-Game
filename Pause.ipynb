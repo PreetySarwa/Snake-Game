{
 "cells": [
  {
   "cell_type": "code",
   "execution_count": null,
   "metadata": {},
   "outputs": [],
   "source": [
    "def game_paused():\n",
    "    # canvas.fill(BLACK)\n",
    "    paused_font1 = large_font.render(\"Game Paused\", True, YELLOW)\n",
    "    paused_font_rect1 = paused_font1.get_rect()\n",
    "    paused_font_rect1.center = (WINDOW_WIDTH/2, WINDOW_HEIGHT/2)\n",
    "    canvas.blit(paused_font1, paused_font_rect1)\n",
    "    while True:\n",
    "        for event in pygame.event.get():\n",
    "            if event.type == pygame.QUIT:\n",
    "                pygame.quit()\n",
    "                sys.exit()\n",
    "            if event.type == pygame.KEYDOWN:\n",
    "                if event.key == pygame.K_q:\n",
    "                    pygame.quit()\n",
    "                    sys.exit()\n",
    "            if event.type == pygame.MOUSEBUTTONDOWN:\n",
    "                pause_xy = event.pos\n",
    "                if pause_xy&#91;0] &gt; (WINDOW_WIDTH - 50) and pause_xy&#91;0] &lt; WINDOW_WIDTH:\n",
    "                    if pause_xy&#91;1] &gt; 0 and pause_xy&#91;1] &lt; 50:\n",
    "                        return\n",
    "        pygame.display.update()"
   ]
  }
 ],
 "metadata": {
  "kernelspec": {
   "display_name": "Python 3",
   "language": "python",
   "name": "python3"
  },
  "language_info": {
   "codemirror_mode": {
    "name": "ipython",
    "version": 3
   },
   "file_extension": ".py",
   "mimetype": "text/x-python",
   "name": "python",
   "nbconvert_exporter": "python",
   "pygments_lexer": "ipython3",
   "version": "3.7.3"
  }
 },
 "nbformat": 4,
 "nbformat_minor": 2
}
