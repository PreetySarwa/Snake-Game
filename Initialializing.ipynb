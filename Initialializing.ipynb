{
 "cells": [
  {
   "cell_type": "code",
   "execution_count": null,
   "metadata": {},
   "outputs": [],
   "source": [
    "#importing libraries\n",
    "import pygame\n",
    "import sys\n",
    "import random\n",
    "\n",
    "pygame.init()\n",
    "FPS = 15                       #frames per second\n",
    "WHITE = (255,255,255)          #white color code \n",
    "BLACK = (0, 0, 0)              #balck color code\n",
    "GREEN = (0, 255, 0)            #green color code\n",
    "RED = (255, 0, 0)              #red color code\n",
    "BLUE = (0, 0, 255)             #blue color code\n",
    "YELLOW = (255, 255, 0)         #yellow color code\n",
    "WINDOW_WIDTH = 800             #width of the game terminal\n",
    "WINDOW_HEIGHT = 800            #height of the game terminal\n",
    "VELOCITY = 10                  #speed of the snake\n",
    "SNAKE_WIDTH = 15               #Snake thickness\n",
    "APPLE_SIZE = 20                #apple size\n",
    "TOP_WIDTH = 40                 #margin\n",
    "small_font = pygame.font.SysFont('Courier New', 25)\n",
    "medium_font = pygame.font.SysFont('Courier New', 20, True)\n",
    "large_font = pygame.font.SysFont('Courier New', 40, True, True)\n",
    "clock = pygame.time.Clock()    #for score generation\n",
    " \n",
    "canvas = pygame.display.set_mode((WINDOW_WIDTH, WINDOW_HEIGHT))\n",
    "pygame.display.set_caption('Snake Game')\n",
    "snake_img = pygame.image.load('snake_head.png')\n",
    "apple_img = pygame.image.load('apple.png')\n",
    "tail_img = pygame.image.load('snake_tail (2).png')\n",
    "apple_img_rect = apple_img.get_rect()"
   ]
  }
 ],
 "metadata": {
  "kernelspec": {
   "display_name": "Python 3",
   "language": "python",
   "name": "python3"
  },
  "language_info": {
   "codemirror_mode": {
    "name": "ipython",
    "version": 3
   },
   "file_extension": ".py",
   "mimetype": "text/x-python",
   "name": "python",
   "nbconvert_exporter": "python",
   "pygments_lexer": "ipython3",
   "version": "3.7.3"
  }
 },
 "nbformat": 4,
 "nbformat_minor": 2
}
